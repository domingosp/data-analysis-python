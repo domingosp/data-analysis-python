{
 "cells": [
  {
   "cell_type": "markdown",
   "id": "a62b1fc0-a0e5-44f1-8f9d-9443861ea580",
   "metadata": {},
   "source": [
    "## Primeiro Exercício FreeCodeCamp"
   ]
  },
  {
   "cell_type": "code",
   "execution_count": 79,
   "id": "63b17d19-47bb-4d89-9281-fe9a5df812fc",
   "metadata": {},
   "outputs": [
    {
     "data": {
      "text/plain": [
       "{'mean': [[3.0, 4.0, 5.0], [1.0, 4.0, 7.0], 4.0],\n",
       " 'variance': [[6.0, 6.0, 6.0],\n",
       "  [0.6666666666666666, 0.6666666666666666, 0.6666666666666666],\n",
       "  6.666666666666667],\n",
       " 'standard deviation': [[2.449489742783178,\n",
       "   2.449489742783178,\n",
       "   2.449489742783178],\n",
       "  [0.816496580927726, 0.816496580927726, 0.816496580927726],\n",
       "  2.581988897471611],\n",
       " 'max': [[6, 7, 8], [2, 5, 8], 8],\n",
       " 'min': [[0, 1, 2], [0, 3, 6], 0],\n",
       " 'sum': [[9, 12, 15], [3, 12, 21], 36]}"
      ]
     },
     "execution_count": 79,
     "metadata": {},
     "output_type": "execute_result"
    }
   ],
   "source": [
    "import numpy as np\n",
    "\n",
    "lista=[0, 1, 2, 3, 4, 5, 6, 7, 8]\n",
    "\n",
    "def calculate(list): \n",
    "    \n",
    "    if len(list) != 9:\n",
    "        return \"ValueError: List must contain nine numbers.\"\n",
    "    \n",
    "    else:\n",
    "        mat = np.reshape(list, (3,3))\n",
    "        calculations = {\n",
    "              'mean': [[np.mean(mat[:,0]), np.mean(mat[:,1]), np.mean(mat[:,2])],\n",
    "            [np.mean(mat[0,:]), np.mean(mat[1,:]), np.mean(mat[2,:])], np.mean(list)],\n",
    "        \n",
    "              'variance': [[np.var(mat[:,0]), np.var(mat[:,1]), np.var(mat[:,2])],\n",
    "            [np.var(mat[0,:]), np.var(mat[1,:]), np.var(mat[2,:])], np.var(list)],\n",
    "        \n",
    "              'standard deviation': [[np.std(mat[:,0]), np.std(mat[:,1]), np.std(mat[:,2])],\n",
    "            [np.std(mat[0,:]), np.std(mat[1,:]), np.std(mat[2,:])], np.std(list)],\n",
    "        \n",
    "              'max': [[np.amax(mat[:,0]), np.amax(mat[:,1]), np.amax(mat[:,2])],\n",
    "            [np.amax(mat[0,:]), np.amax(mat[1,:]), np.amax(mat[2,:])], np.amax(list)],\n",
    "        \n",
    "              'min': [[np.amin(mat[:,0]), np.amin(mat[:,1]), np.amin(mat[:,2])],\n",
    "            [np.amin(mat[0,:]), np.amin(mat[1,:]), np.amin(mat[2,:])], np.amin(list)],\n",
    "        \n",
    "              'sum': [[np.sum(mat[:,0]), np.sum(mat[:,1]), np.sum(mat[:,2])],\n",
    "            [np.sum(mat[0,:]), np.sum(mat[1,:]), np.sum(mat[2,:])], np.sum(list)]\n",
    "        \n",
    "                }\n",
    "\n",
    "        return calculations\n",
    "\n",
    "\n",
    "calculate(lista)\n",
    "    "
   ]
  }
 ],
 "metadata": {
  "kernelspec": {
   "display_name": "Python 3 (ipykernel)",
   "language": "python",
   "name": "python3"
  },
  "language_info": {
   "codemirror_mode": {
    "name": "ipython",
    "version": 3
   },
   "file_extension": ".py",
   "mimetype": "text/x-python",
   "name": "python",
   "nbconvert_exporter": "python",
   "pygments_lexer": "ipython3",
   "version": "3.9.7"
  }
 },
 "nbformat": 4,
 "nbformat_minor": 5
}
